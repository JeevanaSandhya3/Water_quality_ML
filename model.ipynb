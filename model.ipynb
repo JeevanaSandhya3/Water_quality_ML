{
 "cells": [
  {
   "cell_type": "code",
   "execution_count": 353,
   "id": "69a60b8a-d58e-46b1-88b3-07f2b7ca776d",
   "metadata": {},
   "outputs": [],
   "source": [
    "import pandas as pd\n",
    "import matplotlib.pyplot as plt\n",
    "import seaborn as sns\n",
    "import numpy as np"
   ]
  },
  {
   "cell_type": "code",
   "execution_count": 354,
   "id": "7aeadd3e-69a4-46b8-bf3f-fee7f208c159",
   "metadata": {},
   "outputs": [],
   "source": [
    "from sklearn.metrics import accuracy_score,confusion_matrix,precision_score,classification_report\n",
    "from sklearn.model_selection import train_test_split\n",
    "from sklearn.linear_model import LogisticRegression"
   ]
  },
  {
   "cell_type": "code",
   "execution_count": 355,
   "id": "d70783ec-7ef4-4080-bc4c-13b30bcd692d",
   "metadata": {},
   "outputs": [
    {
     "name": "stdout",
     "output_type": "stream",
     "text": [
      "Name: scikit-learn\n",
      "Version: 1.3.0\n",
      "Summary: A set of python modules for machine learning and data mining\n",
      "Home-page: http://scikit-learn.org\n",
      "Author: \n",
      "Author-email: \n",
      "License: new BSD\n",
      "Location: /Users/gadejeevanasandhya/myenv/lib/python3.9/site-packages\n",
      "Requires: joblib, numpy, scipy, threadpoolctl\n",
      "Required-by: \n"
     ]
    }
   ],
   "source": [
    "!pip show scikit-learn"
   ]
  },
  {
   "cell_type": "code",
   "execution_count": 356,
   "id": "0b43fa93-342e-40fe-913e-aaf522b7331b",
   "metadata": {},
   "outputs": [],
   "source": [
    "df=pd.read_csv('ground_water_quality_2022_pre.csv')"
   ]
  },
  {
   "cell_type": "code",
   "execution_count": 357,
   "id": "91893200-19bb-4c8e-afe1-2ba8f68aab37",
   "metadata": {},
   "outputs": [
    {
     "data": {
      "text/html": [
       "<div>\n",
       "<style scoped>\n",
       "    .dataframe tbody tr th:only-of-type {\n",
       "        vertical-align: middle;\n",
       "    }\n",
       "\n",
       "    .dataframe tbody tr th {\n",
       "        vertical-align: top;\n",
       "    }\n",
       "\n",
       "    .dataframe thead th {\n",
       "        text-align: right;\n",
       "    }\n",
       "</style>\n",
       "<table border=\"1\" class=\"dataframe\">\n",
       "  <thead>\n",
       "    <tr style=\"text-align: right;\">\n",
       "      <th></th>\n",
       "      <th>sno</th>\n",
       "      <th>district</th>\n",
       "      <th>mandal</th>\n",
       "      <th>village</th>\n",
       "      <th>temp_id</th>\n",
       "      <th>long_gis</th>\n",
       "      <th>lat_gis</th>\n",
       "      <th>RL_GIS</th>\n",
       "      <th>season</th>\n",
       "      <th>pH</th>\n",
       "      <th>...</th>\n",
       "      <th>Na</th>\n",
       "      <th>K</th>\n",
       "      <th>Ca</th>\n",
       "      <th>Mg</th>\n",
       "      <th>T.H</th>\n",
       "      <th>SAR</th>\n",
       "      <th>Classification</th>\n",
       "      <th>RSC  meq  / L</th>\n",
       "      <th>Classification.1</th>\n",
       "      <th>portability</th>\n",
       "    </tr>\n",
       "  </thead>\n",
       "  <tbody>\n",
       "    <tr>\n",
       "      <th>0</th>\n",
       "      <td>1</td>\n",
       "      <td>ADILABAD</td>\n",
       "      <td>Adilabad</td>\n",
       "      <td>Adilabad</td>\n",
       "      <td>1001.0</td>\n",
       "      <td>78.52</td>\n",
       "      <td>19.67</td>\n",
       "      <td>253.0</td>\n",
       "      <td>premonsoon 2022</td>\n",
       "      <td>8.27</td>\n",
       "      <td>...</td>\n",
       "      <td>135.0</td>\n",
       "      <td>9.0</td>\n",
       "      <td>72.0</td>\n",
       "      <td>58.34</td>\n",
       "      <td>420.0</td>\n",
       "      <td>2.86</td>\n",
       "      <td>C3S1</td>\n",
       "      <td>-1.6</td>\n",
       "      <td>P.S.</td>\n",
       "      <td>0.0</td>\n",
       "    </tr>\n",
       "    <tr>\n",
       "      <th>1</th>\n",
       "      <td>2</td>\n",
       "      <td>ADILABAD</td>\n",
       "      <td>Bazarhatnur</td>\n",
       "      <td>Bazarhatnur</td>\n",
       "      <td>1002.0</td>\n",
       "      <td>78.35</td>\n",
       "      <td>19.46</td>\n",
       "      <td>435.0</td>\n",
       "      <td>premonsoon 2022</td>\n",
       "      <td>8.3</td>\n",
       "      <td>...</td>\n",
       "      <td>42.0</td>\n",
       "      <td>2.0</td>\n",
       "      <td>32.0</td>\n",
       "      <td>24.31</td>\n",
       "      <td>180.0</td>\n",
       "      <td>1.36</td>\n",
       "      <td>C2S1</td>\n",
       "      <td>0.0</td>\n",
       "      <td>P.S.</td>\n",
       "      <td>1.0</td>\n",
       "    </tr>\n",
       "    <tr>\n",
       "      <th>2</th>\n",
       "      <td>3</td>\n",
       "      <td>ADILABAD</td>\n",
       "      <td>Bela</td>\n",
       "      <td>Chandpally</td>\n",
       "      <td>1003.0</td>\n",
       "      <td>78.85</td>\n",
       "      <td>19.68</td>\n",
       "      <td>247.0</td>\n",
       "      <td>premonsoon 2022</td>\n",
       "      <td>8.22</td>\n",
       "      <td>...</td>\n",
       "      <td>89.0</td>\n",
       "      <td>5.0</td>\n",
       "      <td>56.0</td>\n",
       "      <td>43.76</td>\n",
       "      <td>320.0</td>\n",
       "      <td>2.16</td>\n",
       "      <td>C3S1</td>\n",
       "      <td>-1.4</td>\n",
       "      <td>P.S.</td>\n",
       "      <td>0.0</td>\n",
       "    </tr>\n",
       "    <tr>\n",
       "      <th>3</th>\n",
       "      <td>4</td>\n",
       "      <td>ADILABAD</td>\n",
       "      <td>Bheempur</td>\n",
       "      <td>Arli</td>\n",
       "      <td>1004.0</td>\n",
       "      <td>78.38</td>\n",
       "      <td>19.83</td>\n",
       "      <td>224.0</td>\n",
       "      <td>premonsoon 2022</td>\n",
       "      <td>8.23</td>\n",
       "      <td>...</td>\n",
       "      <td>96.0</td>\n",
       "      <td>6.0</td>\n",
       "      <td>56.0</td>\n",
       "      <td>43.76</td>\n",
       "      <td>320.0</td>\n",
       "      <td>2.33</td>\n",
       "      <td>C3S1</td>\n",
       "      <td>-2.2</td>\n",
       "      <td>P.S.</td>\n",
       "      <td>0.0</td>\n",
       "    </tr>\n",
       "    <tr>\n",
       "      <th>4</th>\n",
       "      <td>5</td>\n",
       "      <td>ADILABAD</td>\n",
       "      <td>Bheempur</td>\n",
       "      <td>Bheempur</td>\n",
       "      <td>1005.0</td>\n",
       "      <td>78.42</td>\n",
       "      <td>19.77</td>\n",
       "      <td>245.0</td>\n",
       "      <td>premonsoon 2022</td>\n",
       "      <td>8.31</td>\n",
       "      <td>...</td>\n",
       "      <td>92.0</td>\n",
       "      <td>6.0</td>\n",
       "      <td>64.0</td>\n",
       "      <td>48.62</td>\n",
       "      <td>360.0</td>\n",
       "      <td>2.11</td>\n",
       "      <td>C3S1</td>\n",
       "      <td>-3.2</td>\n",
       "      <td>P.S.</td>\n",
       "      <td>0.0</td>\n",
       "    </tr>\n",
       "  </tbody>\n",
       "</table>\n",
       "<p>5 rows × 26 columns</p>\n",
       "</div>"
      ],
      "text/plain": [
       "   sno  district       mandal      village  temp_id  long_gis  lat_gis  \\\n",
       "0    1  ADILABAD     Adilabad     Adilabad   1001.0     78.52    19.67   \n",
       "1    2  ADILABAD  Bazarhatnur  Bazarhatnur   1002.0     78.35    19.46   \n",
       "2    3  ADILABAD         Bela   Chandpally   1003.0     78.85    19.68   \n",
       "3    4  ADILABAD     Bheempur         Arli   1004.0     78.38    19.83   \n",
       "4    5  ADILABAD     Bheempur     Bheempur   1005.0     78.42    19.77   \n",
       "\n",
       "   RL_GIS           season    pH  ...     Na    K    Ca     Mg    T.H   SAR  \\\n",
       "0   253.0  premonsoon 2022  8.27  ...  135.0  9.0  72.0  58.34  420.0  2.86   \n",
       "1   435.0  premonsoon 2022   8.3  ...   42.0  2.0  32.0  24.31  180.0  1.36   \n",
       "2   247.0  premonsoon 2022  8.22  ...   89.0  5.0  56.0  43.76  320.0  2.16   \n",
       "3   224.0  premonsoon 2022  8.23  ...   96.0  6.0  56.0  43.76  320.0  2.33   \n",
       "4   245.0  premonsoon 2022  8.31  ...   92.0  6.0  64.0  48.62  360.0  2.11   \n",
       "\n",
       "   Classification  RSC  meq  / L  Classification.1  portability  \n",
       "0            C3S1           -1.6              P.S.          0.0  \n",
       "1            C2S1            0.0              P.S.          1.0  \n",
       "2            C3S1           -1.4              P.S.          0.0  \n",
       "3            C3S1           -2.2              P.S.          0.0  \n",
       "4            C3S1           -3.2              P.S.          0.0  \n",
       "\n",
       "[5 rows x 26 columns]"
      ]
     },
     "execution_count": 357,
     "metadata": {},
     "output_type": "execute_result"
    }
   ],
   "source": [
    "df.head()"
   ]
  },
  {
   "cell_type": "code",
   "execution_count": 358,
   "id": "df6b2574-8b99-4a9a-a6fc-09b882f89d18",
   "metadata": {},
   "outputs": [],
   "source": [
    "df.columns = df.columns.str.strip()"
   ]
  },
  {
   "cell_type": "code",
   "execution_count": 359,
   "id": "3c0e1cad-cfe1-47a6-8543-20b5b4c59418",
   "metadata": {},
   "outputs": [
    {
     "name": "stdout",
     "output_type": "stream",
     "text": [
      "Index(['sno', 'district', 'mandal', 'village', 'temp_id', 'long_gis',\n",
      "       'lat_gis', 'RL_GIS', 'season', 'pH', 'E.C', 'TDS', 'HCO3', 'Cl', 'F',\n",
      "       'SO4', 'Na', 'K', 'Ca', 'Mg', 'T.H', 'SAR', 'Classification',\n",
      "       'RSC  meq  / L', 'Classification.1', 'portability'],\n",
      "      dtype='object')\n"
     ]
    }
   ],
   "source": [
    "print(df.columns)"
   ]
  },
  {
   "cell_type": "code",
   "execution_count": 360,
   "id": "06ac9aee-e9a1-4539-90fb-7e1656847b24",
   "metadata": {},
   "outputs": [
    {
     "name": "stdout",
     "output_type": "stream",
     "text": [
      "<class 'pandas.core.frame.DataFrame'>\n",
      "RangeIndex: 1025 entries, 0 to 1024\n",
      "Data columns (total 26 columns):\n",
      " #   Column            Non-Null Count  Dtype  \n",
      "---  ------            --------------  -----  \n",
      " 0   sno               1025 non-null   int64  \n",
      " 1   district          1024 non-null   object \n",
      " 2   mandal            1024 non-null   object \n",
      " 3   village           1024 non-null   object \n",
      " 4   temp_id           1024 non-null   float64\n",
      " 5   long_gis          1024 non-null   float64\n",
      " 6   lat_gis           1024 non-null   float64\n",
      " 7   RL_GIS            860 non-null    float64\n",
      " 8   season            1024 non-null   object \n",
      " 9   pH                967 non-null    object \n",
      " 10  E.C               967 non-null    float64\n",
      " 11  TDS               967 non-null    float64\n",
      " 12  HCO3              967 non-null    float64\n",
      " 13  Cl                967 non-null    float64\n",
      " 14  F                 967 non-null    float64\n",
      " 15  SO4               967 non-null    float64\n",
      " 16  Na                967 non-null    float64\n",
      " 17  K                 967 non-null    float64\n",
      " 18  Ca                967 non-null    float64\n",
      " 19  Mg                967 non-null    float64\n",
      " 20  T.H               967 non-null    float64\n",
      " 21  SAR               967 non-null    float64\n",
      " 22  Classification    967 non-null    object \n",
      " 23  RSC  meq  / L     967 non-null    float64\n",
      " 24  Classification.1  967 non-null    object \n",
      " 25  portability       1024 non-null   float64\n",
      "dtypes: float64(18), int64(1), object(7)\n",
      "memory usage: 208.3+ KB\n"
     ]
    }
   ],
   "source": [
    "df.info()"
   ]
  },
  {
   "cell_type": "code",
   "execution_count": 361,
   "id": "1c9e9fea-80f1-4b7f-9f70-0cd80132020b",
   "metadata": {},
   "outputs": [
    {
     "data": {
      "text/plain": [
       "sno                   0\n",
       "district              1\n",
       "mandal                1\n",
       "village               1\n",
       "temp_id               1\n",
       "long_gis              1\n",
       "lat_gis               1\n",
       "RL_GIS              165\n",
       "season                1\n",
       "pH                   58\n",
       "E.C                  58\n",
       "TDS                  58\n",
       "HCO3                 58\n",
       "Cl                   58\n",
       "F                    58\n",
       "SO4                  58\n",
       "Na                   58\n",
       "K                    58\n",
       "Ca                   58\n",
       "Mg                   58\n",
       "T.H                  58\n",
       "SAR                  58\n",
       "Classification       58\n",
       "RSC  meq  / L        58\n",
       "Classification.1     58\n",
       "portability           1\n",
       "dtype: int64"
      ]
     },
     "execution_count": 361,
     "metadata": {},
     "output_type": "execute_result"
    }
   ],
   "source": [
    "df.isnull().sum()"
   ]
  },
  {
   "cell_type": "code",
   "execution_count": 362,
   "id": "93052890-be51-4075-bfb6-ac1faf48b873",
   "metadata": {},
   "outputs": [
    {
     "data": {
      "text/plain": [
       "<Axes: >"
      ]
     },
     "execution_count": 362,
     "metadata": {},
     "output_type": "execute_result"
    },
    {
     "data": {
      "image/png": "[encoded data removed]",
      "text/plain": [
       "<Figure size 1200x800 with 1 Axes>"
      ]
     },
     "metadata": {},
     "output_type": "display_data"
    }
   ],
   "source": [
    "df.isnull().mean().plot.bar(figsize= (12,8))"
   ]
  },
  {
   "cell_type": "code",
   "execution_count": 363,
   "id": "b48f30ec-44f8-49c0-a850-fc5f8650513f",
   "metadata": {},
   "outputs": [],
   "source": [
    "import numpy as np\n",
    "\n",
    "df['pH'] = df['pH'].replace('\\.\\.', np.nan, regex=True)\n"
   ]
  },
  {
   "cell_type": "code",
   "execution_count": 364,
   "id": "aa9ac36f-a3a7-44a2-91f2-32fc701818ba",
   "metadata": {},
   "outputs": [],
   "source": [
    "df['pH'] = df['pH'].astype(float)\n"
   ]
  },
  {
   "cell_type": "code",
   "execution_count": 365,
   "id": "3e829e75-3b98-4e92-813c-e04832ea03f1",
   "metadata": {},
   "outputs": [],
   "source": [
    "df['pH']=df['pH'].fillna(df['pH'].mean())\n",
    "df['E.C']=df['E.C'].fillna(df['E.C'].mean())\n",
    "df['TDS']=df['TDS'].fillna(df['TDS'].mean())\n",
    "df['TDS']=df['TDS'].fillna(df['TDS'].mean())\n",
    "df['HCO3']=df['HCO3'].fillna(df['HCO3'].mean())\n",
    "df['Cl']=df['Cl'].fillna(df['Cl'].mean())\n",
    "df['F']=df['F'].fillna(df['F'].mean())\n",
    "df['SO4']=df['SO4'].fillna(df['SO4'].mean())\n",
    "df['Na']=df['Na'].fillna(df['Na'].mean())\n",
    "df['K']=df['K'].fillna(df['K'].mean())\n",
    "df['Ca']=df['Ca'].fillna(df['Ca'].mean())\n",
    "df['Mg']=df['Mg'].fillna(df['Mg'].mean())\n",
    "df['T.H']=df['T.H'].fillna(df['T.H'].mean())\n",
    "df['SAR']=df['SAR'].fillna(df['SAR'].mean())\n",
    "df['lat_gis']=df['lat_gis'].fillna(df['lat_gis'].mean())\n",
    "df['long_gis']=df['long_gis'].fillna(df['long_gis'].mean())\n",
    "df['temp_id']=df['temp_id'].fillna(df['temp_id'].mean())\n",
    "df['portability']=df['portability'].fillna(df['portability'].mean())"
   ]
  },
  {
   "cell_type": "code",
   "execution_count": 366,
   "id": "c643ef3a-c3b2-4f1f-987f-b84b339de8e9",
   "metadata": {},
   "outputs": [
    {
     "data": {
      "text/plain": [
       "0"
      ]
     },
     "execution_count": 366,
     "metadata": {},
     "output_type": "execute_result"
    }
   ],
   "source": [
    "df['TDS'].isnull().sum()"
   ]
  },
  {
   "cell_type": "code",
   "execution_count": 367,
   "id": "364ddd26-f4ab-470a-a32c-113680634f00",
   "metadata": {},
   "outputs": [
    {
     "data": {
      "text/plain": [
       "sno                   0\n",
       "district              1\n",
       "mandal                1\n",
       "village               1\n",
       "temp_id               0\n",
       "long_gis              0\n",
       "lat_gis               0\n",
       "RL_GIS              165\n",
       "season                1\n",
       "pH                    0\n",
       "E.C                   0\n",
       "TDS                   0\n",
       "HCO3                  0\n",
       "Cl                    0\n",
       "F                     0\n",
       "SO4                   0\n",
       "Na                    0\n",
       "K                     0\n",
       "Ca                    0\n",
       "Mg                    0\n",
       "T.H                   0\n",
       "SAR                   0\n",
       "Classification       58\n",
       "RSC  meq  / L        58\n",
       "Classification.1     58\n",
       "portability           0\n",
       "dtype: int64"
      ]
     },
     "execution_count": 367,
     "metadata": {},
     "output_type": "execute_result"
    }
   ],
   "source": [
    "df.isnull().sum()"
   ]
  },
  {
   "cell_type": "code",
   "execution_count": 368,
   "id": "72d5360e-e852-48a9-b589-4284a0dda066",
   "metadata": {},
   "outputs": [
    {
     "name": "stdout",
     "output_type": "stream",
     "text": [
      "<class 'pandas.core.frame.DataFrame'>\n",
      "RangeIndex: 1025 entries, 0 to 1024\n",
      "Data columns (total 26 columns):\n",
      " #   Column            Non-Null Count  Dtype  \n",
      "---  ------            --------------  -----  \n",
      " 0   sno               1025 non-null   int64  \n",
      " 1   district          1024 non-null   object \n",
      " 2   mandal            1024 non-null   object \n",
      " 3   village           1024 non-null   object \n",
      " 4   temp_id           1025 non-null   float64\n",
      " 5   long_gis          1025 non-null   float64\n",
      " 6   lat_gis           1025 non-null   float64\n",
      " 7   RL_GIS            860 non-null    float64\n",
      " 8   season            1024 non-null   object \n",
      " 9   pH                1025 non-null   float64\n",
      " 10  E.C               1025 non-null   float64\n",
      " 11  TDS               1025 non-null   float64\n",
      " 12  HCO3              1025 non-null   float64\n",
      " 13  Cl                1025 non-null   float64\n",
      " 14  F                 1025 non-null   float64\n",
      " 15  SO4               1025 non-null   float64\n",
      " 16  Na                1025 non-null   float64\n",
      " 17  K                 1025 non-null   float64\n",
      " 18  Ca                1025 non-null   float64\n",
      " 19  Mg                1025 non-null   float64\n",
      " 20  T.H               1025 non-null   float64\n",
      " 21  SAR               1025 non-null   float64\n",
      " 22  Classification    967 non-null    object \n",
      " 23  RSC  meq  / L     967 non-null    float64\n",
      " 24  Classification.1  967 non-null    object \n",
      " 25  portability       1025 non-null   float64\n",
      "dtypes: float64(19), int64(1), object(6)\n",
      "memory usage: 208.3+ KB\n"
     ]
    }
   ],
   "source": [
    "df.info()"
   ]
  },
  {
   "cell_type": "code",
   "execution_count": 369,
   "id": "6404b053-f141-4b9e-bd17-69888c989a3b",
   "metadata": {},
   "outputs": [],
   "source": [
    "df['portability'] = df['portability'].astype(int)"
   ]
  },
  {
   "cell_type": "code",
   "execution_count": 370,
   "id": "43c48765-f653-4b12-b604-fcb98daa8c1a",
   "metadata": {},
   "outputs": [],
   "source": [
    "X = df.drop(['sno','district','mandal','village','temp_id','long_gis','lat_gis','RL_GIS','season','E.C','HCO3','Na','K','Ca','Mg','Classification','SAR','RSC  meq  / L','Classification.1','portability'],axis=1)"
   ]
  },
  {
   "cell_type": "code",
   "execution_count": 371,
   "id": "a379a29b-c38d-48a7-b5b8-0f732d604311",
   "metadata": {},
   "outputs": [],
   "source": [
    "Y= df['portability']"
   ]
  },
  {
   "cell_type": "code",
   "execution_count": 372,
   "id": "e86bffd6-c945-4f98-87d6-11ea229e4b80",
   "metadata": {},
   "outputs": [],
   "source": [
    "X_train, X_test, Y_train, Y_test = train_test_split(X,Y, test_size= 0.2, random_state=101,shuffle=True)"
   ]
  },
  {
   "cell_type": "code",
   "execution_count": 373,
   "id": "3f507f36-cb7b-46c4-96df-e9fbebb8c8d1",
   "metadata": {},
   "outputs": [
    {
     "data": {
      "text/plain": [
       "portability\n",
       "0    618\n",
       "1    202\n",
       "Name: count, dtype: int64"
      ]
     },
     "execution_count": 373,
     "metadata": {},
     "output_type": "execute_result"
    }
   ],
   "source": [
    "Y_train.value_counts()"
   ]
  },
  {
   "cell_type": "code",
   "execution_count": 374,
   "id": "802846d0-c5cb-450f-be9e-f760503f953c",
   "metadata": {},
   "outputs": [
    {
     "data": {
      "text/plain": [
       "portability\n",
       "0    165\n",
       "1     40\n",
       "Name: count, dtype: int64"
      ]
     },
     "execution_count": 374,
     "metadata": {},
     "output_type": "execute_result"
    }
   ],
   "source": [
    "Y_test.value_counts()"
   ]
  },
  {
   "cell_type": "code",
   "execution_count": 375,
   "id": "175cd9cb-1ae7-4041-9f09-3542edd60c6b",
   "metadata": {},
   "outputs": [],
   "source": [
    "from sklearn.linear_model import LogisticRegression"
   ]
  },
  {
   "cell_type": "code",
   "execution_count": 376,
   "id": "e1e10476-c6fb-414b-991a-0f2ec3a96619",
   "metadata": {},
   "outputs": [
    {
     "name": "stderr",
     "output_type": "stream",
     "text": [
      "/Users/gadejeevanasandhya/myenv/lib/python3.9/site-packages/sklearn/linear_model/_logistic.py:460: ConvergenceWarning: lbfgs failed to converge (status=1):\n",
      "STOP: TOTAL NO. of ITERATIONS REACHED LIMIT.\n",
      "\n",
      "Increase the number of iterations (max_iter) or scale the data as shown in:\n",
      "    https://scikit-learn.org/stable/modules/preprocessing.html\n",
      "Please also refer to the documentation for alternative solver options:\n",
      "    https://scikit-learn.org/stable/modules/linear_model.html#logistic-regression\n",
      "  n_iter_i = _check_optimize_result(\n"
     ]
    },
    {
     "data": {
      "text/html": [
       "<style>#sk-container-id-12 {color: black;}#sk-container-id-12 pre{padding: 0;}#sk-container-id-12 div.sk-toggleable {background-color: white;}#sk-container-id-12 label.sk-toggleable__label {cursor: pointer;display: block;width: 100%;margin-bottom: 0;padding: 0.3em;box-sizing: border-box;text-align: center;}#sk-container-id-12 label.sk-toggleable__label-arrow:before {content: \"▸\";float: left;margin-right: 0.25em;color: #696969;}#sk-container-id-12 label.sk-toggleable__label-arrow:hover:before {color: black;}#sk-container-id-12 div.sk-estimator:hover label.sk-toggleable__label-arrow:before {color: black;}#sk-container-id-12 div.sk-toggleable__content {max-height: 0;max-width: 0;overflow: hidden;text-align: left;background-color: #f0f8ff;}#sk-container-id-12 div.sk-toggleable__content pre {margin: 0.2em;color: black;border-radius: 0.25em;background-color: #f0f8ff;}#sk-container-id-12 input.sk-toggleable__control:checked~div.sk-toggleable__content {max-height: 200px;max-width: 100%;overflow: auto;}#sk-container-id-12 input.sk-toggleable__control:checked~label.sk-toggleable__label-arrow:before {content: \"▾\";}#sk-container-id-12 div.sk-estimator input.sk-toggleable__control:checked~label.sk-toggleable__label {background-color: #d4ebff;}#sk-container-id-12 div.sk-label input.sk-toggleable__control:checked~label.sk-toggleable__label {background-color: #d4ebff;}#sk-container-id-12 input.sk-hidden--visually {border: 0;clip: rect(1px 1px 1px 1px);clip: rect(1px, 1px, 1px, 1px);height: 1px;margin: -1px;overflow: hidden;padding: 0;position: absolute;width: 1px;}#sk-container-id-12 div.sk-estimator {font-family: monospace;background-color: #f0f8ff;border: 1px dotted black;border-radius: 0.25em;box-sizing: border-box;margin-bottom: 0.5em;}#sk-container-id-12 div.sk-estimator:hover {background-color: #d4ebff;}#sk-container-id-12 div.sk-parallel-item::after {content: \"\";width: 100%;border-bottom: 1px solid gray;flex-grow: 1;}#sk-container-id-12 div.sk-label:hover label.sk-toggleable__label {background-color: #d4ebff;}#sk-container-id-12 div.sk-serial::before {content: \"\";position: absolute;border-left: 1px solid gray;box-sizing: border-box;top: 0;bottom: 0;left: 50%;z-index: 0;}#sk-container-id-12 div.sk-serial {display: flex;flex-direction: column;align-items: center;background-color: white;padding-right: 0.2em;padding-left: 0.2em;position: relative;}#sk-container-id-12 div.sk-item {position: relative;z-index: 1;}#sk-container-id-12 div.sk-parallel {display: flex;align-items: stretch;justify-content: center;background-color: white;position: relative;}#sk-container-id-12 div.sk-item::before, #sk-container-id-12 div.sk-parallel-item::before {content: \"\";position: absolute;border-left: 1px solid gray;box-sizing: border-box;top: 0;bottom: 0;left: 50%;z-index: -1;}#sk-container-id-12 div.sk-parallel-item {display: flex;flex-direction: column;z-index: 1;position: relative;background-color: white;}#sk-container-id-12 div.sk-parallel-item:first-child::after {align-self: flex-end;width: 50%;}#sk-container-id-12 div.sk-parallel-item:last-child::after {align-self: flex-start;width: 50%;}#sk-container-id-12 div.sk-parallel-item:only-child::after {width: 0;}#sk-container-id-12 div.sk-dashed-wrapped {border: 1px dashed gray;margin: 0 0.4em 0.5em 0.4em;box-sizing: border-box;padding-bottom: 0.4em;background-color: white;}#sk-container-id-12 div.sk-label label {font-family: monospace;font-weight: bold;display: inline-block;line-height: 1.2em;}#sk-container-id-12 div.sk-label-container {text-align: center;}#sk-container-id-12 div.sk-container {/* jupyter's `normalize.less` sets `[hidden] { display: none; }` but bootstrap.min.css set `[hidden] { display: none !important; }` so we also need the `!important` here to be able to override the default hidden behavior on the sphinx rendered scikit-learn.org. See: https://github.com/scikit-learn/scikit-learn/issues/21755 */display: inline-block !important;position: relative;}#sk-container-id-12 div.sk-text-repr-fallback {display: none;}</style><div id=\"sk-container-id-12\" class=\"sk-top-container\"><div class=\"sk-text-repr-fallback\"><pre>LogisticRegression()</pre><b>In a Jupyter environment, please rerun this cell to show the HTML representation or trust the notebook. <br />On GitHub, the HTML representation is unable to render, please try loading this page with nbviewer.org.</b></div><div class=\"sk-container\" hidden><div class=\"sk-item\"><div class=\"sk-estimator sk-toggleable\"><input class=\"sk-toggleable__control sk-hidden--visually\" id=\"sk-estimator-id-22\" type=\"checkbox\" checked><label for=\"sk-estimator-id-22\" class=\"sk-toggleable__label sk-toggleable__label-arrow\">LogisticRegression</label><div class=\"sk-toggleable__content\"><pre>LogisticRegression()</pre></div></div></div></div></div>"
      ],
      "text/plain": [
       "LogisticRegression()"
      ]
     },
     "execution_count": 376,
     "metadata": {},
     "output_type": "execute_result"
    }
   ],
   "source": [
    "model_lr=LogisticRegression()\n",
    "model_lr.fit(X_train,Y_train)"
   ]
  },
  {
   "cell_type": "code",
   "execution_count": 377,
   "id": "181b5cfd-5f2f-4183-bdba-7cd080b89871",
   "metadata": {},
   "outputs": [],
   "source": [
    "predict_lr=model_lr.predict(X_test)"
   ]
  },
  {
   "cell_type": "code",
   "execution_count": 378,
   "id": "71a6d6a2-9e35-4d7f-9da3-23348b9aaac5",
   "metadata": {},
   "outputs": [
    {
     "name": "stdout",
     "output_type": "stream",
     "text": [
      "0.9707317073170731\n"
     ]
    }
   ],
   "source": [
    "accuracy_score_lr=accuracy_score(Y_test,predict_lr)\n",
    "print(accuracy_score_lr)"
   ]
  },
  {
   "cell_type": "code",
   "execution_count": 379,
   "id": "88486a62-51b9-4bf3-8b61-a2c7bd24eb5d",
   "metadata": {},
   "outputs": [
    {
     "name": "stdout",
     "output_type": "stream",
     "text": [
      "can't be drinkable\n"
     ]
    },
    {
     "name": "stderr",
     "output_type": "stream",
     "text": [
      "/Users/gadejeevanasandhya/myenv/lib/python3.9/site-packages/sklearn/base.py:464: UserWarning: X does not have valid feature names, but LogisticRegression was fitted with feature names\n",
      "  warnings.warn(\n"
     ]
    }
   ],
   "source": [
    "X_DT=model_lr.predict([[8.17,802,160,0.08,38,360]])\n",
    "if (X_DT==1):\n",
    "  print(\"can be drinkable\")\n",
    "elif X_DT==0 :\n",
    "  print(\"can't be drinkable\")\n"
   ]
  },
  {
   "cell_type": "code",
   "execution_count": 380,
   "id": "f8c05b58-ec1a-40e1-8b23-2cd4848ef496",
   "metadata": {},
   "outputs": [
    {
     "name": "stdout",
     "output_type": "stream",
     "text": [
      "[0.01911288 0.60791924 0.14471746 0.019226   0.06336678 0.14565764]\n"
     ]
    }
   ],
   "source": [
    "from sklearn.ensemble import RandomForestClassifier\n",
    "model = RandomForestClassifier()\n",
    "model.fit(X_train, Y_train)\n",
    "feature_importances = model.feature_importances_\n",
    "print(feature_importances)"
   ]
  },
  {
   "cell_type": "code",
   "execution_count": 381,
   "id": "6b7c5a87-d794-439d-a82a-35009d7ad171",
   "metadata": {},
   "outputs": [
    {
     "name": "stdout",
     "output_type": "stream",
     "text": [
      "{'importances_mean': array([0.        , 0.28780488, 0.        , 0.        , 0.        ,\n",
      "       0.00097561]), 'importances_std': array([0.        , 0.02653945, 0.        , 0.        , 0.        ,\n",
      "       0.00195122]), 'importances': array([[0.        , 0.        , 0.        , 0.        , 0.        ],\n",
      "       [0.28780488, 0.31219512, 0.26341463, 0.25365854, 0.32195122],\n",
      "       [0.        , 0.        , 0.        , 0.        , 0.        ],\n",
      "       [0.        , 0.        , 0.        , 0.        , 0.        ],\n",
      "       [0.        , 0.        , 0.        , 0.        , 0.        ],\n",
      "       [0.        , 0.        , 0.        , 0.        , 0.00487805]])}\n"
     ]
    }
   ],
   "source": [
    "from sklearn.inspection import permutation_importance\n",
    "perm_importance = permutation_importance(model, X_test, Y_test)\n",
    "print(perm_importance)"
   ]
  },
  {
   "cell_type": "code",
   "execution_count": 382,
   "id": "558b3596-e92f-47ca-8870-033a6c69882a",
   "metadata": {},
   "outputs": [
    {
     "data": {
      "text/html": [
       "<style>#sk-container-id-13 {color: black;}#sk-container-id-13 pre{padding: 0;}#sk-container-id-13 div.sk-toggleable {background-color: white;}#sk-container-id-13 label.sk-toggleable__label {cursor: pointer;display: block;width: 100%;margin-bottom: 0;padding: 0.3em;box-sizing: border-box;text-align: center;}#sk-container-id-13 label.sk-toggleable__label-arrow:before {content: \"▸\";float: left;margin-right: 0.25em;color: #696969;}#sk-container-id-13 label.sk-toggleable__label-arrow:hover:before {color: black;}#sk-container-id-13 div.sk-estimator:hover label.sk-toggleable__label-arrow:before {color: black;}#sk-container-id-13 div.sk-toggleable__content {max-height: 0;max-width: 0;overflow: hidden;text-align: left;background-color: #f0f8ff;}#sk-container-id-13 div.sk-toggleable__content pre {margin: 0.2em;color: black;border-radius: 0.25em;background-color: #f0f8ff;}#sk-container-id-13 input.sk-toggleable__control:checked~div.sk-toggleable__content {max-height: 200px;max-width: 100%;overflow: auto;}#sk-container-id-13 input.sk-toggleable__control:checked~label.sk-toggleable__label-arrow:before {content: \"▾\";}#sk-container-id-13 div.sk-estimator input.sk-toggleable__control:checked~label.sk-toggleable__label {background-color: #d4ebff;}#sk-container-id-13 div.sk-label input.sk-toggleable__control:checked~label.sk-toggleable__label {background-color: #d4ebff;}#sk-container-id-13 input.sk-hidden--visually {border: 0;clip: rect(1px 1px 1px 1px);clip: rect(1px, 1px, 1px, 1px);height: 1px;margin: -1px;overflow: hidden;padding: 0;position: absolute;width: 1px;}#sk-container-id-13 div.sk-estimator {font-family: monospace;background-color: #f0f8ff;border: 1px dotted black;border-radius: 0.25em;box-sizing: border-box;margin-bottom: 0.5em;}#sk-container-id-13 div.sk-estimator:hover {background-color: #d4ebff;}#sk-container-id-13 div.sk-parallel-item::after {content: \"\";width: 100%;border-bottom: 1px solid gray;flex-grow: 1;}#sk-container-id-13 div.sk-label:hover label.sk-toggleable__label {background-color: #d4ebff;}#sk-container-id-13 div.sk-serial::before {content: \"\";position: absolute;border-left: 1px solid gray;box-sizing: border-box;top: 0;bottom: 0;left: 50%;z-index: 0;}#sk-container-id-13 div.sk-serial {display: flex;flex-direction: column;align-items: center;background-color: white;padding-right: 0.2em;padding-left: 0.2em;position: relative;}#sk-container-id-13 div.sk-item {position: relative;z-index: 1;}#sk-container-id-13 div.sk-parallel {display: flex;align-items: stretch;justify-content: center;background-color: white;position: relative;}#sk-container-id-13 div.sk-item::before, #sk-container-id-13 div.sk-parallel-item::before {content: \"\";position: absolute;border-left: 1px solid gray;box-sizing: border-box;top: 0;bottom: 0;left: 50%;z-index: -1;}#sk-container-id-13 div.sk-parallel-item {display: flex;flex-direction: column;z-index: 1;position: relative;background-color: white;}#sk-container-id-13 div.sk-parallel-item:first-child::after {align-self: flex-end;width: 50%;}#sk-container-id-13 div.sk-parallel-item:last-child::after {align-self: flex-start;width: 50%;}#sk-container-id-13 div.sk-parallel-item:only-child::after {width: 0;}#sk-container-id-13 div.sk-dashed-wrapped {border: 1px dashed gray;margin: 0 0.4em 0.5em 0.4em;box-sizing: border-box;padding-bottom: 0.4em;background-color: white;}#sk-container-id-13 div.sk-label label {font-family: monospace;font-weight: bold;display: inline-block;line-height: 1.2em;}#sk-container-id-13 div.sk-label-container {text-align: center;}#sk-container-id-13 div.sk-container {/* jupyter's `normalize.less` sets `[hidden] { display: none; }` but bootstrap.min.css set `[hidden] { display: none !important; }` so we also need the `!important` here to be able to override the default hidden behavior on the sphinx rendered scikit-learn.org. See: https://github.com/scikit-learn/scikit-learn/issues/21755 */display: inline-block !important;position: relative;}#sk-container-id-13 div.sk-text-repr-fallback {display: none;}</style><div id=\"sk-container-id-13\" class=\"sk-top-container\"><div class=\"sk-text-repr-fallback\"><pre>RFE(estimator=RandomForestClassifier(), n_features_to_select=5)</pre><b>In a Jupyter environment, please rerun this cell to show the HTML representation or trust the notebook. <br />On GitHub, the HTML representation is unable to render, please try loading this page with nbviewer.org.</b></div><div class=\"sk-container\" hidden><div class=\"sk-item sk-dashed-wrapped\"><div class=\"sk-label-container\"><div class=\"sk-label sk-toggleable\"><input class=\"sk-toggleable__control sk-hidden--visually\" id=\"sk-estimator-id-23\" type=\"checkbox\" ><label for=\"sk-estimator-id-23\" class=\"sk-toggleable__label sk-toggleable__label-arrow\">RFE</label><div class=\"sk-toggleable__content\"><pre>RFE(estimator=RandomForestClassifier(), n_features_to_select=5)</pre></div></div></div><div class=\"sk-parallel\"><div class=\"sk-parallel-item\"><div class=\"sk-item\"><div class=\"sk-label-container\"><div class=\"sk-label sk-toggleable\"><input class=\"sk-toggleable__control sk-hidden--visually\" id=\"sk-estimator-id-24\" type=\"checkbox\" ><label for=\"sk-estimator-id-24\" class=\"sk-toggleable__label sk-toggleable__label-arrow\">estimator: RandomForestClassifier</label><div class=\"sk-toggleable__content\"><pre>RandomForestClassifier()</pre></div></div></div><div class=\"sk-serial\"><div class=\"sk-item\"><div class=\"sk-estimator sk-toggleable\"><input class=\"sk-toggleable__control sk-hidden--visually\" id=\"sk-estimator-id-25\" type=\"checkbox\" ><label for=\"sk-estimator-id-25\" class=\"sk-toggleable__label sk-toggleable__label-arrow\">RandomForestClassifier</label><div class=\"sk-toggleable__content\"><pre>RandomForestClassifier()</pre></div></div></div></div></div></div></div></div></div></div>"
      ],
      "text/plain": [
       "RFE(estimator=RandomForestClassifier(), n_features_to_select=5)"
      ]
     },
     "execution_count": 382,
     "metadata": {},
     "output_type": "execute_result"
    }
   ],
   "source": [
    "from sklearn.feature_selection import RFE\n",
    "model_rf= RandomForestClassifier()\n",
    "rfe = RFE(model, n_features_to_select=5)\n",
    "rfe.fit(X_train, Y_train)"
   ]
  },
  {
   "cell_type": "code",
   "execution_count": 383,
   "id": "e7c86205-bdf6-46c5-b614-9d11f507d47c",
   "metadata": {},
   "outputs": [],
   "source": [
    "pred_rf=rfe.predict(X_test)"
   ]
  },
  {
   "cell_type": "code",
   "execution_count": 384,
   "id": "60138b69-8a4c-490b-a0b6-590dfa8b9275",
   "metadata": {},
   "outputs": [
    {
     "name": "stdout",
     "output_type": "stream",
     "text": [
      "0.9853658536585366\n"
     ]
    }
   ],
   "source": [
    "from sklearn.metrics import accuracy_score\n",
    "y_pred = rfe.predict(X_test)\n",
    "accuracy_score_rf = accuracy_score(Y_test, y_pred)\n",
    "print(accuracy_score_rf)\n"
   ]
  },
  {
   "cell_type": "code",
   "execution_count": 385,
   "id": "1099cb2f-3bd0-41ee-a64d-8431d517adda",
   "metadata": {},
   "outputs": [
    {
     "name": "stdout",
     "output_type": "stream",
     "text": [
      "can't be drinkable\n"
     ]
    },
    {
     "name": "stderr",
     "output_type": "stream",
     "text": [
      "/Users/gadejeevanasandhya/myenv/lib/python3.9/site-packages/sklearn/base.py:464: UserWarning: X does not have valid feature names, but RFE was fitted with feature names\n",
      "  warnings.warn(\n"
     ]
    }
   ],
   "source": [
    "X_DT=rfe.predict([[8.17,802,160,0.08,38,360]])\n",
    "if (X_DT==1):\n",
    "  print(\"can be drinkable\")\n",
    "elif X_DT==0 :\n",
    "  print(\"can't be drinkable\")\n"
   ]
  },
  {
   "cell_type": "code",
   "execution_count": 386,
   "id": "3928875f-7cfe-45a9-9352-a7cbfe05eace",
   "metadata": {},
   "outputs": [],
   "source": [
    "import pickle\n",
    "with open('abc.pkl','wb') as file:\n",
    "  pickle.dump(dt,file)"
   ]
  }
 ],
 "metadata": {
  "kernelspec": {
   "display_name": "Python 3 (ipykernel)",
   "language": "python",
   "name": "python3"
  },
  "language_info": {
   "codemirror_mode": {
    "name": "ipython",
    "version": 3
   },
   "file_extension": ".py",
   "mimetype": "text/x-python",
   "name": "python",
   "nbconvert_exporter": "python",
   "pygments_lexer": "ipython3",
   "version": "3.9.13"
  }
 },
 "nbformat": 4,
 "nbformat_minor": 5
}
